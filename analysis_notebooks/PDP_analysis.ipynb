{
  "nbformat": 4,
  "nbformat_minor": 0,
  "metadata": {
    "colab": {
      "name": "PDP_analysis.ipynb",
      "provenance": [],
      "authorship_tag": "ABX9TyNsMINMjk0yENO4U1my6FPJ",
      "include_colab_link": true
    },
    "kernelspec": {
      "name": "python3",
      "display_name": "Python 3"
    },
    "language_info": {
      "name": "python"
    }
  },
  "cells": [
    {
      "cell_type": "markdown",
      "metadata": {
        "id": "view-in-github",
        "colab_type": "text"
      },
      "source": [
        "<a href=\"https://colab.research.google.com/github/vekteo/ASRT_rapid_consolidation/blob/main/PDP_analysis.ipynb\" target=\"_parent\"><img src=\"https://colab.research.google.com/assets/colab-badge.svg\" alt=\"Open In Colab\"/></a>"
      ]
    },
    {
      "cell_type": "markdown",
      "source": [
        "# Process Dissociation Procedure (PDP) task analysis code\n",
        "\n",
        "\n",
        "---\n",
        "\n",
        "1.   Upload the ASRT output files merged into one single .csv file (*asrt.csv* on OSF)\n",
        "2.   Upload the PDP output files merged into one single .csv file (*pdp.csv* on OSF)\n",
        "3. Hit *Run all*\n",
        "\n",
        "Code by Teodóra Vékony https://github.com/vekteo\n",
        "\n",
        "Lyon Neuroscience Research Center (CRNL), Université Claude Bernard Lyon 1"
      ],
      "metadata": {
        "id": "SkpTNZt07SW8"
      }
    },
    {
      "cell_type": "markdown",
      "source": [
        "# Import Python packages"
      ],
      "metadata": {
        "id": "Tsy018Bj7rOx"
      }
    },
    {
      "cell_type": "code",
      "execution_count": null,
      "metadata": {
        "id": "kKBzBKHIAMQc"
      },
      "outputs": [],
      "source": [
        "import pandas as pd\n",
        "import numpy as np\n",
        "from google.colab import files\n",
        "import glob"
      ]
    },
    {
      "cell_type": "markdown",
      "source": [
        "# Read data files"
      ],
      "metadata": {
        "id": "xN_5MpU_7uZ0"
      }
    },
    {
      "cell_type": "code",
      "source": [
        "df = pd.read_csv(\"pdp.csv\", encoding=\"ISO-8859-1\")"
      ],
      "metadata": {
        "id": "IuhuNPavAV16"
      },
      "execution_count": null,
      "outputs": []
    },
    {
      "cell_type": "markdown",
      "source": [
        "# Drop participants"
      ],
      "metadata": {
        "id": "Ds2HVKw07xQ-"
      }
    },
    {
      "cell_type": "code",
      "source": [
        "participants_to_drop = ['wxxo75wg','9f29r2qv','7dh53ycb','86pcb2mb','esmmznl1','npsaibu7','qrzq7ts2','sbkvhjhy','trkopxt7','ql49dn7x','c6yyouxw','297gibh5','wunf7i3o','7m76soye','cayu2l31','uqgl5lcz','bxb8djmc','w6vcdqme','p3fyit39','30mhiihl','01hhoswd','j0g4kqyn','bg1yka4d','2j62a51o','9hy16b49','o9aanl9z','t1t2dyid','3pw99p9u','4oltkref','p4f8l137','q965bort','smvr23e8','95f4z9l1','cv841tyx','qmcdul7z','79byw8v4','4xnyxjl0','139lnsjl','zxyx8jio','dvs1rx99','j1mttxb7','ye3yxiiu','02lil6a8','clkmmxkg','rra05osw','32zod29m','l452387h','ne1zmdp0','olyffqcf','bj8l5rz6','ic7gxv2p','k4vkynk3','qc8kj5y4','w5xvw32d','2fjf1gdf','993mmbxg','da8q2m1i','fehyc211','m5zau3bf','54pj2wer','fdvkiue5','fv4eqjr5','3wif8txo','ymmro5ep','sn22rw6s','ia5zwn5m','4yiwcr2r','858nish3','ofenlmw3','ovmb6sgq','wcsfo7p6','dor4944c','hk8jwhaz','bsh7t661','536ektl5','gr7qbqqj','my49x5bc','z63ep3ee','2uaif6hy','ran6tboj']\n",
        "df = df[~df['Participant Public ID'].isin(participants_to_drop)]\n",
        "df.head()"
      ],
      "metadata": {
        "id": "ZvhW9gFFAbXP"
      },
      "execution_count": null,
      "outputs": []
    },
    {
      "cell_type": "markdown",
      "source": [
        "# Preprocessing"
      ],
      "metadata": {
        "id": "87IqZuoO70sb"
      }
    },
    {
      "cell_type": "markdown",
      "source": [
        "**1. Drop unnecessary columns**"
      ],
      "metadata": {
        "id": "0ACuzygB75Mw"
      }
    },
    {
      "cell_type": "code",
      "source": [
        "df = df.loc[:, ['Participant Public ID','randomiser-bcas','block','trial_number','response_key', 'response_button','task_type']]\n",
        "df.head()"
      ],
      "metadata": {
        "id": "esgMjd75AhSx"
      },
      "execution_count": null,
      "outputs": []
    },
    {
      "cell_type": "markdown",
      "source": [
        "**2. Create a new column with the positions from 1-4**"
      ],
      "metadata": {
        "id": "QuV1vKYv78iI"
      }
    },
    {
      "cell_type": "code",
      "source": [
        "df[\"position\"] = df[\"response_button\"] + 1\n",
        "df.head()"
      ],
      "metadata": {
        "id": "dJ5KEBWlD2nM"
      },
      "execution_count": null,
      "outputs": []
    },
    {
      "cell_type": "markdown",
      "source": [
        "**3. Create three new columns: one columns for each element of the triplet**\n",
        "\n",
        "Here we define what was the first (n-2), second (n-1), and last element (n) of the triplet of which the current trial is the last element"
      ],
      "metadata": {
        "id": "IikLjQRk8DZh"
      }
    },
    {
      "cell_type": "code",
      "source": [
        "for i in range(2, df.last_valid_index()):\n",
        "    df.loc[i, 'triplet_1'] = df.loc[i-2, 'position']\n",
        "\n",
        "for i in range(1, df.last_valid_index()):\n",
        "    df.loc[i, 'triplet_2'] = df.loc[i-1, 'position']\n",
        "\n",
        "for i in range(0, df.last_valid_index()):\n",
        "    df.loc[i, 'triplet_3'] = df.loc[i, 'position']\n",
        "\n",
        "df.head()"
      ],
      "metadata": {
        "id": "SmW3F14uExlN"
      },
      "execution_count": null,
      "outputs": []
    },
    {
      "cell_type": "markdown",
      "source": [
        "**4. Drop unnecessary rows**\n",
        "\n",
        "We drop the rows which contain NaN values (including the first two trials of the response blocks - because they are not complete triplets)"
      ],
      "metadata": {
        "id": "OeVMnnHG8Yar"
      }
    },
    {
      "cell_type": "code",
      "source": [
        "df = df[df['trial_number'].notna()]\n",
        "df = df.dropna()\n",
        "df.head()"
      ],
      "metadata": {
        "id": "qUVT59NsKC0e"
      },
      "execution_count": null,
      "outputs": []
    },
    {
      "cell_type": "markdown",
      "source": [
        "**5. Convert triplet columns to string format and leave only the first character**"
      ],
      "metadata": {
        "id": "f4kyUzNH802D"
      }
    },
    {
      "cell_type": "code",
      "source": [
        "df['triplet_1'] = df['triplet_1'].apply(str)\n",
        "df['triplet_2'] = df['triplet_2'].apply(str)\n",
        "df['triplet_3'] = df['triplet_3'].apply(str)\n",
        "\n",
        "df['triplet_1'] = df['triplet_1'].str[:1]\n",
        "df['triplet_2'] = df['triplet_2'].str[:1]\n",
        "df['triplet_3'] = df['triplet_3'].str[:1]\n",
        "df.head()"
      ],
      "metadata": {
        "id": "B6yleyRpRRqu"
      },
      "execution_count": null,
      "outputs": []
    },
    {
      "cell_type": "markdown",
      "source": [
        "**6. Create a new column containing the concatenated value of the three triplet columns**"
      ],
      "metadata": {
        "id": "WqpeT3v59Lsr"
      }
    },
    {
      "cell_type": "code",
      "source": [
        "df['triplet'] = df['triplet_1'] + df['triplet_2'] + df['triplet_3'] \n",
        "df.head()"
      ],
      "metadata": {
        "id": "RS0rlrH2RgMu"
      },
      "execution_count": null,
      "outputs": []
    },
    {
      "cell_type": "markdown",
      "source": [
        "**7. Load the ASRT output**"
      ],
      "metadata": {
        "id": "nYKdHecY9S9T"
      }
    },
    {
      "cell_type": "code",
      "source": [
        "asrt = pd.read_csv(\"asrt.csv\", encoding=\"ISO-8859-1\")\n",
        "asrt.head()"
      ],
      "metadata": {
        "id": "6nEQJcm3jR-G"
      },
      "execution_count": null,
      "outputs": []
    },
    {
      "cell_type": "markdown",
      "source": [
        "**8. Drop the unnecessary columns of the ASRT dataframe**"
      ],
      "metadata": {
        "id": "JF6XC_eW9Zqp"
      }
    },
    {
      "cell_type": "code",
      "source": [
        "asrt = asrt.loc[:, ['Participant Public ID', 'sequence']]"
      ],
      "metadata": {
        "id": "0z1DKBl7yJ3W"
      },
      "execution_count": null,
      "outputs": []
    },
    {
      "cell_type": "markdown",
      "source": [
        "**9. Drop the unnecessary rows of the ASRT dataframe**"
      ],
      "metadata": {
        "id": "0CmFYIxQ9iK5"
      }
    },
    {
      "cell_type": "code",
      "source": [
        "asrt = asrt.dropna()\n",
        "asrt.head()"
      ],
      "metadata": {
        "id": "rPw0ZZfVyJ8c"
      },
      "execution_count": null,
      "outputs": []
    },
    {
      "cell_type": "markdown",
      "source": [
        "**10. Drop the duplicates of the ASRT dataframe**"
      ],
      "metadata": {
        "id": "q6mQeClh9087"
      }
    },
    {
      "cell_type": "code",
      "source": [
        "asrt = asrt.drop_duplicates()"
      ],
      "metadata": {
        "id": "5XBi8r720Tw5"
      },
      "execution_count": null,
      "outputs": []
    },
    {
      "cell_type": "markdown",
      "source": [
        "**11. Convert the sequence column to string and leave only the first four characters**"
      ],
      "metadata": {
        "id": "akYyovI396El"
      }
    },
    {
      "cell_type": "code",
      "source": [
        "asrt['sequence'] = asrt['sequence'].apply(str)\n",
        "asrt['sequence'] = asrt['sequence'].str[:4]\n",
        "asrt.head()"
      ],
      "metadata": {
        "id": "m0CcZ2gZ0gRf"
      },
      "execution_count": null,
      "outputs": []
    },
    {
      "cell_type": "markdown",
      "source": [
        "**12. Drop the duplicates**"
      ],
      "metadata": {
        "id": "EmpGNcU4-HnV"
      }
    },
    {
      "cell_type": "code",
      "source": [
        "asrt = asrt.drop_duplicates()\n",
        "asrt.head()"
      ],
      "metadata": {
        "id": "CKbisXW80uik"
      },
      "execution_count": null,
      "outputs": []
    },
    {
      "cell_type": "markdown",
      "source": [
        "**13. Append the sequence column of the ASRT dataframe to the PDP dataframe based on the public ID**\n",
        "\n",
        "Now we see which participant completed which sequence"
      ],
      "metadata": {
        "id": "goT7nxGK-NJb"
      }
    },
    {
      "cell_type": "code",
      "source": [
        "df = df.merge(asrt, how='outer', on='Participant Public ID')\n",
        "df.head(5)"
      ],
      "metadata": {
        "id": "Ss59fNRD1dJ3"
      },
      "execution_count": null,
      "outputs": []
    },
    {
      "cell_type": "markdown",
      "source": [
        "**14. Drop unnecessary columns**"
      ],
      "metadata": {
        "id": "XINqDRq6-e7W"
      }
    },
    {
      "cell_type": "code",
      "source": [
        "df = df.dropna()"
      ],
      "metadata": {
        "id": "jOxSFnmd2c1k"
      },
      "execution_count": null,
      "outputs": []
    },
    {
      "cell_type": "markdown",
      "source": [
        "**15. Create triplet_type column: value is 1 if the triplet column contains a H triplet, the value is 0 is it contains a L triplet**"
      ],
      "metadata": {
        "id": "VW999j83-3V-"
      }
    },
    {
      "cell_type": "code",
      "source": [
        "for i in range(0, df.last_valid_index()):\n",
        "    if df.loc[i, 'sequence'].find(df.loc[i, 'triplet_1']+df.loc[i, 'triplet_3'])!=-1:\n",
        "      df.loc[i, 'is_high'] = 1\n",
        "      df.loc[i, 'r_or_t'] = 0\n",
        "    elif df.loc[i, 'triplet_1']==df.loc[i, 'sequence'][3] and df.loc[i, 'triplet_3']==df.loc[i, 'sequence'][0]:\n",
        "      df.loc[i, 'is_high'] = 1\n",
        "      df.loc[i, 'r_or_t'] = 0\n",
        "    else:\n",
        "      df.loc[i, 'is_high'] = 0\n",
        "      if df.loc[i, 'triplet_1']==df.loc[i, 'triplet_3']:\n",
        "         df.loc[i, 'r_or_t'] = 1\n",
        "      else:\n",
        "         df.loc[i, 'r_or_t'] = 0\n",
        "\n",
        "df.head()"
      ],
      "metadata": {
        "id": "Fe5Aublj2VLI"
      },
      "execution_count": null,
      "outputs": []
    },
    {
      "cell_type": "markdown",
      "source": [
        "**16. Create new block column with 1-4 instead of 1-8**"
      ],
      "metadata": {
        "id": "bpMGmbEinS-J"
      }
    },
    {
      "cell_type": "code",
      "source": [
        "df.loc[df['block'] == 1, 'new_block'] = 1\n",
        "df.loc[df['block'] == 2, 'new_block'] = 2\n",
        "df.loc[df['block'] == 3, 'new_block'] = 3\n",
        "df.loc[df['block'] == 4, 'new_block'] = 4\n",
        "df.loc[df['block'] == 5, 'new_block'] = 1\n",
        "df.loc[df['block'] == 6, 'new_block'] = 2\n",
        "df.loc[df['block'] == 7, 'new_block'] = 3\n",
        "df.loc[df['block'] == 8, 'new_block'] = 4"
      ],
      "metadata": {
        "id": "wuVhZ0VKEdpk"
      },
      "execution_count": null,
      "outputs": []
    },
    {
      "cell_type": "markdown",
      "source": [
        "**17. Remove blocks with more than 50% of invalid answers (repetitions, trills) from the PDP dataframe**"
      ],
      "metadata": {
        "id": "sjk0tNIG-sis"
      }
    },
    {
      "cell_type": "code",
      "source": [
        "r_or_t_proportion = df.groupby(['Participant Public ID', 'randomiser-bcas','task_type','new_block']).agg({'r_or_t': 'mean'})\n",
        "r_or_t_proportion"
      ],
      "metadata": {
        "id": "4BZiUaO29sI2"
      },
      "execution_count": null,
      "outputs": []
    },
    {
      "cell_type": "code",
      "source": [
        "df_high = df.groupby(['Participant Public ID', 'randomiser-bcas','task_type','new_block']).agg({'is_high': 'mean'})\n",
        "df_high"
      ],
      "metadata": {
        "id": "I-Z-uQgPHS5A"
      },
      "execution_count": null,
      "outputs": []
    },
    {
      "cell_type": "code",
      "source": [
        "df_high_r_or_t = pd.concat([df_high, r_or_t_proportion], join='outer', axis=1)\n",
        "df_high_r_or_t"
      ],
      "metadata": {
        "id": "XpCbt1W3H9_L"
      },
      "execution_count": null,
      "outputs": []
    },
    {
      "cell_type": "code",
      "source": [
        "df_invalid_removed = df_high_r_or_t[df_high_r_or_t['r_or_t'] < 0.5]\n",
        "df_invalid_removed"
      ],
      "metadata": {
        "id": "IliLOSJBJZ2Y"
      },
      "execution_count": null,
      "outputs": []
    },
    {
      "cell_type": "markdown",
      "source": [
        "**18. Calculate the percentage of H triplets [participant, exclusion/inclusion]**"
      ],
      "metadata": {
        "id": "K9HaHJ4P_G_V"
      }
    },
    {
      "cell_type": "code",
      "source": [
        "final = df_invalid_removed.groupby(['Participant Public ID', 'randomiser-bcas','task_type']).agg({'is_high': 'mean'})\n",
        "final = final.unstack()\n",
        "final_after_exclusion = final.dropna()"
      ],
      "metadata": {
        "id": "_XvOG3sPpDuh"
      },
      "execution_count": null,
      "outputs": []
    },
    {
      "cell_type": "markdown",
      "source": [
        "**19. Save PDP file**"
      ],
      "metadata": {
        "id": "T7T4m62N_hZg"
      }
    },
    {
      "cell_type": "code",
      "source": [
        "final_after_exclusion.to_csv(\"pdp_excl_results.csv\",index=True)\n",
        "files.download(\"pdp_excl_results.csv\")"
      ],
      "metadata": {
        "id": "MT0ogsWUKxUG"
      },
      "execution_count": null,
      "outputs": []
    }
  ]
}