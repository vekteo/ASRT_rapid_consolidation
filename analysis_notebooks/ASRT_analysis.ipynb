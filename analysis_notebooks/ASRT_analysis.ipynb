{
  "nbformat": 4,
  "nbformat_minor": 0,
  "metadata": {
    "colab": {
      "name": "ASRT_analysis.ipynb",
      "provenance": [],
      "collapsed_sections": [
        "kXFqiMw-tw6K",
        "lVWIn42Mt2CJ",
        "Bfs0dOvSuGfv",
        "0-GJhtIDx8el",
        "ddP2uLg7yXNc"
      ],
      "include_colab_link": true
    },
    "kernelspec": {
      "name": "python3",
      "display_name": "Python 3"
    }
  },
  "cells": [
    {
      "cell_type": "markdown",
      "metadata": {
        "id": "view-in-github",
        "colab_type": "text"
      },
      "source": [
        "<a href=\"https://colab.research.google.com/github/vekteo/ASRT_ultra_fast_consolidation/blob/main/ASRT_analysis.ipynb\" target=\"_parent\"><img src=\"https://colab.research.google.com/assets/colab-badge.svg\" alt=\"Open In Colab\"/></a>"
      ]
    },
    {
      "cell_type": "markdown",
      "metadata": {
        "id": "e4DfAZjOqDdP"
      },
      "source": [
        "# **ASRT analysis script for the rapid consolidation online project**\n",
        "\n",
        "\n",
        "---\n",
        "1. Upload the merged output files (*ASRT.csv* on OSF)\n",
        "2. Hit *Run all*\n",
        "\n",
        "\n",
        "Code by Teodóra Vékony https://github.com/vekteo\n",
        "\n",
        "Lyon Neuroscience Research Center (CRNL), Université Claude Bernard Lyon 1\n"
      ]
    },
    {
      "cell_type": "markdown",
      "metadata": {
        "id": "kXFqiMw-tw6K"
      },
      "source": [
        "# Import Python packages"
      ]
    },
    {
      "cell_type": "code",
      "metadata": {
        "id": "0_1pFdnaGFad"
      },
      "source": [
        "import pandas as pd\n",
        "import numpy as np\n",
        "from google.colab import files\n",
        "import glob\n",
        "import seaborn as sns\n",
        "import matplotlib as plt"
      ],
      "execution_count": null,
      "outputs": []
    },
    {
      "cell_type": "markdown",
      "metadata": {
        "id": "lVWIn42Mt2CJ"
      },
      "source": [
        "# Read datafiles"
      ]
    },
    {
      "cell_type": "code",
      "metadata": {
        "id": "p1qyoNlwF-Ak"
      },
      "source": [
        "# get data file names\n",
        "filenames = glob.glob(\"*.csv\")\n",
        "dfs = []\n",
        "for filename in filenames:\n",
        "    dfs.append(pd.read_csv(filename, encoding=\"utf8\", decimal='.'))\n",
        "\n",
        "# Concatenate all data into one DataFrame\n",
        "df = pd.concat(dfs, ignore_index=True)\n"
      ],
      "execution_count": null,
      "outputs": []
    },
    {
      "cell_type": "markdown",
      "metadata": {
        "id": "GNzXGh18osFe"
      },
      "source": [
        "# Drop participants"
      ]
    },
    {
      "cell_type": "markdown",
      "metadata": {
        "id": "zGMS91Dfpeli"
      },
      "source": [
        "***Write the public ID of the participants to drop into the array***"
      ]
    },
    {
      "cell_type": "code",
      "metadata": {
        "id": "a4pwrz1IovOe"
      },
      "source": [
        "participants_to_drop = ['wxxo75wg','9f29r2qv','7dh53ycb','86pcb2mb','esmmznl1','npsaibu7','qrzq7ts2','sbkvhjhy','trkopxt7','ql49dn7x','c6yyouxw','297gibh5','wunf7i3o','7m76soye','cayu2l31','uqgl5lcz','bxb8djmc','w6vcdqme','p3fyit39','30mhiihl','01hhoswd','j0g4kqyn','bg1yka4d','2j62a51o','9hy16b49','o9aanl9z','t1t2dyid','3pw99p9u','4oltkref','p4f8l137','q965bort','smvr23e8','95f4z9l1','cv841tyx','qmcdul7z','79byw8v4','4xnyxjl0','139lnsjl','zxyx8jio','dvs1rx99','j1mttxb7','ye3yxiiu','02lil6a8','clkmmxkg','rra05osw','32zod29m','l452387h','ne1zmdp0','olyffqcf','bj8l5rz6','ic7gxv2p','k4vkynk3','qc8kj5y4','w5xvw32d','2fjf1gdf','993mmbxg','da8q2m1i','fehyc211','m5zau3bf','54pj2wer','fdvkiue5','fv4eqjr5','3wif8txo','ymmro5ep','sn22rw6s','ia5zwn5m','4yiwcr2r','858nish3','ofenlmw3','ovmb6sgq','wcsfo7p6','dor4944c','hk8jwhaz','bsh7t661','536ektl5','gr7qbqqj','my49x5bc','z63ep3ee','2uaif6hy','ran6tboj']\n",
        "df = df[~df['Participant Public ID'].isin(participants_to_drop)]\n",
        "df.head()"
      ],
      "execution_count": null,
      "outputs": []
    },
    {
      "cell_type": "markdown",
      "metadata": {
        "id": "Bfs0dOvSuGfv"
      },
      "source": [
        "# Preprocessing"
      ]
    },
    {
      "cell_type": "markdown",
      "metadata": {
        "id": "bObAaYkDuKoo"
      },
      "source": [
        "**1. Make string values numeric**"
      ]
    },
    {
      "cell_type": "code",
      "metadata": {
        "id": "Uz7KZqLduRRq"
      },
      "source": [
        "#to numeric\n",
        "df['cumulative_RT'] = pd.to_numeric(df['cumulative_RT'], errors='coerce')\n",
        "df['block'] = pd.to_numeric(df['block'], errors='coerce')\n",
        "df['trial_number'] = pd.to_numeric(df['trial_number'], errors='coerce')\n",
        "df['is_practice'] = pd.to_numeric(df['is_practice'], errors='coerce')\n",
        "df['first_response'] = pd.to_numeric(df['first_response'], errors='coerce')"
      ],
      "execution_count": null,
      "outputs": []
    },
    {
      "cell_type": "markdown",
      "metadata": {
        "id": "YiiFE76Hufmz"
      },
      "source": [
        "**2. Drop the unnecessary columns from the dataframe**"
      ]
    },
    {
      "cell_type": "code",
      "metadata": {
        "id": "OUplx6gzGyXA"
      },
      "source": [
        "#drop unnecessary columns\n",
        "df = df.loc[:, ['Participant Public ID','time_elapsed','group','rt','correct','triplet_type','p_or_r','block','sequence','is_practice','first_response','trial_number','correct_pos', 'correct_resp_button', 'resp_button','cumulative_RT','actual_triplet']]\n",
        "df.head()"
      ],
      "execution_count": null,
      "outputs": []
    },
    {
      "cell_type": "markdown",
      "metadata": {
        "id": "sDb6PUM5uwH9"
      },
      "source": [
        "**3. Drop unnecassary rows from the dataframe**"
      ]
    },
    {
      "cell_type": "code",
      "metadata": {
        "id": "x_ELSZ1Fu3ZZ"
      },
      "source": [
        "#drop unnecessary rows (i.e., rows the do not contain ASRT trials)\n",
        "df = df[df['trial_number'].notna()]\n",
        "df.head()"
      ],
      "execution_count": null,
      "outputs": []
    },
    {
      "cell_type": "markdown",
      "metadata": {
        "id": "i31kd8WpvSb5"
      },
      "source": [
        "**4. Define epochs in a new column \"epoch\"**"
      ]
    },
    {
      "cell_type": "code",
      "metadata": {
        "id": "d2L-piZXNztF"
      },
      "source": [
        "#define epochs\n",
        "df.loc[df['block'] <= 5, 'epoch'] = 1\n",
        "df.loc[(df['block'] >= 6)  & (df['block'] <= 10), 'epoch'] = 2\n",
        "df.loc[(df['block'] >= 11) & (df['block'] <= 15), 'epoch'] = 3 \n",
        "df.loc[(df['block'] >= 16) & (df['block'] <= 20), 'epoch'] = 4 \n",
        "df.loc[(df['block'] >= 21) & (df['block'] <= 25), 'epoch'] = 5\n",
        "df.head()"
      ],
      "execution_count": null,
      "outputs": []
    },
    {
      "cell_type": "markdown",
      "metadata": {
        "id": "_a1OnsjvviH4"
      },
      "source": [
        "**5. Define accuracy in binary format in a new column \"ACC\"**"
      ]
    },
    {
      "cell_type": "code",
      "metadata": {
        "id": "TjUVqezmJT7k"
      },
      "source": [
        "#define ACC\n",
        "df.loc[df['correct'] == \"1\", 'ACC'] = 1\n",
        "df.loc[df['correct']  != df['correct'], 'ACC'] = 0\n",
        "df.head(200)"
      ],
      "execution_count": null,
      "outputs": []
    },
    {
      "cell_type": "markdown",
      "metadata": {
        "id": "uOQa8p5Vv7rF"
      },
      "source": [
        "**6. Drop trials that were not first responses to a given stimulus**"
      ]
    },
    {
      "cell_type": "code",
      "metadata": {
        "id": "n__031nXl23h"
      },
      "source": [
        "#drop not first responses\n",
        "all_trials = df.copy()\n",
        "indexNames = df[ df['first_response'] == 0 ].index\n",
        "df.drop(indexNames , inplace=True)\n",
        "all_trials_last_response = df.copy()\n",
        "df.head(5000)"
      ],
      "execution_count": null,
      "outputs": []
    },
    {
      "cell_type": "markdown",
      "metadata": {
        "id": "WZPgl-h9wcAA"
      },
      "source": [
        "**7. Drop trials with more than 1000 ms response time**\n",
        "\n",
        "(this requirement is specific to **ONLINE** data acquisitions)"
      ]
    },
    {
      "cell_type": "code",
      "metadata": {
        "id": "CgZZjelWLlgH"
      },
      "source": [
        "#drop trials with +1000ms\n",
        "indexNames = df[ df['cumulative_RT'] > 1000 ].index\n",
        "df.drop(indexNames , inplace=True)\n",
        "all_trials_last_response_without_1000ms = df.copy()\n",
        "df.head()"
      ],
      "execution_count": null,
      "outputs": []
    },
    {
      "cell_type": "markdown",
      "metadata": {
        "id": "ddP2uLg7yXNc"
      },
      "source": [
        "# Create and save ASRT dataframes"
      ]
    },
    {
      "cell_type": "markdown",
      "metadata": {
        "id": "fJKp7E2sy5bx"
      },
      "source": [
        "**1. Save ASRT data into a new dataframe**"
      ]
    },
    {
      "cell_type": "code",
      "metadata": {
        "id": "qV9NIHWsyyiH"
      },
      "source": [
        "#save ASRT dataset into a separate dataframe\n",
        "ASRT_df = df.copy()"
      ],
      "execution_count": null,
      "outputs": []
    },
    {
      "cell_type": "code",
      "source": [
        "ASRT_sequences = ASRT_df.pivot_table(index=['Participant Public ID','group'], values=['sequence'], aggfunc=np.median)\n",
        "ASRT_sequences.to_csv(\"ASRT_sequences.csv\", index=False)\n",
        "files.download(\"ASRT_sequences.csv\")"
      ],
      "metadata": {
        "id": "rTMIuhaZlxhD"
      },
      "execution_count": null,
      "outputs": []
    },
    {
      "cell_type": "markdown",
      "metadata": {
        "id": "EZe9X_vDwsUN"
      },
      "source": [
        "**2. Drop trials for first two trials (X), for trills (T), and for repetitions (\"T\")**\n",
        "\n"
      ]
    },
    {
      "cell_type": "code",
      "metadata": {
        "id": "ZziXXKiQLWDg"
      },
      "source": [
        "#drop X, T, R trials\n",
        "indexNames = ASRT_df[ ASRT_df[\"triplet_type\"] == \"X\" ].index\n",
        "ASRT_df.drop(indexNames, inplace=True)\n",
        "indexNames2 = ASRT_df[ ASRT_df[\"triplet_type\"] == \"T\" ].index\n",
        "ASRT_df.drop(indexNames2, inplace=True)\n",
        "indexNames3 = ASRT_df[ ASRT_df[\"triplet_type\"] == \"R\" ].index\n",
        "ASRT_df.drop(indexNames3, inplace=True)\n",
        "ASRT_df.head()"
      ],
      "execution_count": null,
      "outputs": []
    },
    {
      "cell_type": "markdown",
      "metadata": {
        "id": "XbfijA4GxBVK"
      },
      "source": [
        "**2. Drop practice blocks from ASRT dataframes**"
      ]
    },
    {
      "cell_type": "code",
      "metadata": {
        "id": "LVhjp77DmRg8"
      },
      "source": [
        "#drop practice blocks\n",
        "indexNames = ASRT_df[ ASRT_df['is_practice'] == 1 ].index\n",
        "ASRT_df.drop(indexNames , inplace=True)"
      ],
      "execution_count": null,
      "outputs": []
    },
    {
      "cell_type": "markdown",
      "metadata": {
        "id": "BZH50eOL0Lwa"
      },
      "source": [
        "**4. Drop incorrect trials**"
      ]
    },
    {
      "cell_type": "code",
      "metadata": {
        "id": "D-76VMYLK_mo"
      },
      "source": [
        "#drop incorrect trials\n",
        "indexNames = ASRT_df[ ASRT_df['ACC'] == 0 ].index\n",
        "ASRT_df.drop(indexNames, inplace=True)"
      ],
      "execution_count": null,
      "outputs": []
    },
    {
      "cell_type": "markdown",
      "metadata": {
        "id": "WaguJNU02X_A"
      },
      "source": [
        "**7. Download full dataframes**"
      ]
    },
    {
      "cell_type": "code",
      "metadata": {
        "id": "yXbYKzNXW2sc"
      },
      "source": [
        "#all trials\n",
        "all_trials.to_csv(\"all_trials.csv\",index=False)\n",
        "files.download(\"all_trials.csv\")\n",
        "\n",
        "all_trials_last_response.to_csv(\"all_trials_last_response.csv\",index=False)\n",
        "files.download(\"all_trials_last_response.csv\")\n",
        "\n",
        "#all trials without 1000 ms\n",
        "df.to_csv(\"all_trials_last_response_without_1000ms.csv\",index=False)\n",
        "files.download(\"all_trials_last_response_without_1000ms.csv\")\n",
        "\n",
        "#ASRT dataset with only correct trials\n",
        "ASRT_df.to_csv(\"ASRT_only_correct_trials.csv\", index=False)\n",
        "files.download(\"ASRT_only_correct_trials.csv\")"
      ],
      "execution_count": null,
      "outputs": []
    },
    {
      "cell_type": "markdown",
      "metadata": {
        "id": "lrM4hA5f3-Ua"
      },
      "source": [
        "# Statistical learning scores"
      ]
    },
    {
      "cell_type": "markdown",
      "metadata": {
        "id": "XBdTGn1D4SCg"
      },
      "source": [
        "**1. Calculate median RT and save it to dataframes**"
      ]
    },
    {
      "cell_type": "code",
      "metadata": {
        "id": "xPeUXbdMMfFx"
      },
      "source": [
        "#Triplet learning by epoch: calculate median RT - wide format\n",
        "TL_RT_wide = ASRT_df.pivot_table(index=['Participant Public ID','group'], columns=['epoch','triplet_type'], values='cumulative_RT', aggfunc=np.median)\n",
        "TL_RT_wide = TL_RT_wide.rename(columns={1.0: 'e1', 2.0: 'e2', 3.0:'e3', 4.0:'e4', 5.0: 'e5'}, level=0)\n",
        "TL_RT_wide.columns = TL_RT_wide.columns.map('_'.join).str.strip('_')\n",
        "\n",
        "for x in [1,2,3,4,5]:\n",
        "  TL_RT_wide[\"e\"+str(x)+\"_TL\"] = TL_RT_wide[\"e\"+str(x)+\"_L\"] - TL_RT_wide[\"e\"+str(x)+\"_H\"]"
      ],
      "execution_count": null,
      "outputs": []
    },
    {
      "cell_type": "markdown",
      "source": [
        "**2. Calculate mean RTs and divide the statistical learning scores by them to get the standardized scores**"
      ],
      "metadata": {
        "id": "BFisdsbuqgix"
      }
    },
    {
      "cell_type": "code",
      "source": [
        "#Calculate mean RT - wide format\n",
        "mean_RT_wide = ASRT_df.pivot_table(index=['Participant Public ID','group'], columns=['epoch'], values='cumulative_RT', aggfunc=np.mean)\n",
        "mean_RT_wide = mean_RT_wide.rename(columns={1.0: 'e1_mean', 2.0: 'e2_mean', 3.0:'e3_mean', 4.0:'e4_mean', 5.0: 'e5_mean'}, level=0)\n",
        "\n",
        "TL_RT_wide = TL_RT_wide.merge(mean_RT_wide, how='outer', on='Participant Public ID')\n",
        "TL_RT_wide.head(5)\n",
        "\n",
        "TL_RT_wide['e1_TL_stand'] = TL_RT_wide['e1_TL']/TL_RT_wide['e1_mean']\n",
        "TL_RT_wide['e2_TL_stand'] = TL_RT_wide['e2_TL']/TL_RT_wide['e2_mean']\n",
        "TL_RT_wide['e3_TL_stand'] = TL_RT_wide['e3_TL']/TL_RT_wide['e3_mean']\n",
        "TL_RT_wide['e4_TL_stand'] = TL_RT_wide['e4_TL']/TL_RT_wide['e4_mean']\n",
        "TL_RT_wide['e5_TL_stand'] = TL_RT_wide['e5_TL']/TL_RT_wide['e5_mean']\n",
        "\n",
        "TL_RT_wide\n",
        "TL_RT_wide.to_csv(\"TL_RT_wide.csv\",index=True)\n",
        "files.download(\"TL_RT_wide.csv\")"
      ],
      "metadata": {
        "id": "Faj3YSI5qKip"
      },
      "execution_count": null,
      "outputs": []
    },
    {
      "cell_type": "markdown",
      "source": [
        "# General skill learning scores"
      ],
      "metadata": {
        "id": "oX2FSs5LoDf7"
      }
    },
    {
      "cell_type": "markdown",
      "source": [
        "**1. Calculate median RT and save it to dataframes**"
      ],
      "metadata": {
        "id": "xYDDAdhmoeYa"
      }
    },
    {
      "cell_type": "code",
      "source": [
        "#General skill learning by epoch: calculate median RT - wide format\n",
        "GS_RT_wide = ASRT_df.pivot_table(index=['Participant Public ID','group'], columns=['epoch'], values='cumulative_RT', aggfunc=np.median)\n",
        "GS_RT_wide = GS_RT_wide.rename(columns={1.0: 'e1', 2.0: 'e2', 3.0:'e3', 4.0:'e4', 5.0: 'e5'}, level=0)\n",
        "\n",
        "GS_RT_wide.to_csv(\"GS_RT_wide.csv\",index=True)\n",
        "files.download(\"GS_RT_wide.csv\")"
      ],
      "metadata": {
        "id": "N2i_UkrhoIy9"
      },
      "execution_count": null,
      "outputs": []
    }
  ]
}
