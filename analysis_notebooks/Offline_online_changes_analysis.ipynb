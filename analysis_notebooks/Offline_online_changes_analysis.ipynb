{
  "nbformat": 4,
  "nbformat_minor": 0,
  "metadata": {
    "colab": {
      "name": "Offline_online_changes_analysis.ipynb",
      "provenance": [],
      "authorship_tag": "ABX9TyNvc45zcOfleJz7FPPF+eo6",
      "include_colab_link": true
    },
    "kernelspec": {
      "name": "python3",
      "display_name": "Python 3"
    },
    "language_info": {
      "name": "python"
    }
  },
  "cells": [
    {
      "cell_type": "markdown",
      "metadata": {
        "id": "view-in-github",
        "colab_type": "text"
      },
      "source": [
        "<a href=\"https://colab.research.google.com/github/vekteo/ASRT_ultra_fast_consolidation/blob/main/Offline_online_changes_analysis.ipynb\" target=\"_parent\"><img src=\"https://colab.research.google.com/assets/colab-badge.svg\" alt=\"Open In Colab\"/></a>"
      ]
    },
    {
      "cell_type": "markdown",
      "source": [
        "# **Code for calculating offline vs. online changes between blocks (ultra-fast consolidation online project)**\n",
        "\n",
        "---\n",
        "\n",
        "1. Load the file named *all_trials_last_repsonse_without_1000ms.csv* on OSF - this file contains all valid (first response) trials without the trials with more than 1000 ms response time\n",
        "2. Hit *Run all*\n",
        "\n",
        "Code by Teodóra Vékony https://github.com/vekteo\n",
        "\n",
        "Lyon Neuroscience Research Center (CRNL), Université Claude Bernard Lyon 1"
      ],
      "metadata": {
        "id": "DN1awwSH8lOt"
      }
    },
    {
      "cell_type": "markdown",
      "source": [
        "# Import Python packages"
      ],
      "metadata": {
        "id": "np2BVaRQ82uW"
      }
    },
    {
      "cell_type": "code",
      "execution_count": null,
      "metadata": {
        "id": "QqfvoklY8bbn"
      },
      "outputs": [],
      "source": [
        "import pandas as pd\n",
        "import numpy as np\n",
        "from google.colab import files\n",
        "import glob\n",
        "import seaborn as sns\n",
        "import matplotlib as plt"
      ]
    },
    {
      "cell_type": "markdown",
      "source": [
        "# Read datafiles"
      ],
      "metadata": {
        "id": "EpIOdOK785Vp"
      }
    },
    {
      "cell_type": "code",
      "source": [
        "# get data file names\n",
        "filenames = glob.glob(\"*.csv\")\n",
        "dfs = []\n",
        "for filename in filenames:\n",
        "    dfs.append(pd.read_csv(filename, encoding=\"utf8\"))\n",
        "\n",
        "# Concatenate all data into one DataFrame\n",
        "df = pd.concat(dfs, ignore_index=True)"
      ],
      "metadata": {
        "id": "lULLVoIq884t"
      },
      "execution_count": null,
      "outputs": []
    },
    {
      "cell_type": "markdown",
      "source": [
        "# Preprocessing\n"
      ],
      "metadata": {
        "id": "y4jnYy4J9lFG"
      }
    },
    {
      "cell_type": "markdown",
      "source": [
        "**1. Creating the bins**"
      ],
      "metadata": {
        "id": "VB0U7Qwr1tnL"
      }
    },
    {
      "cell_type": "code",
      "source": [
        "#define bins\n",
        "df.loc[df['trial_number'] <= 16, 'bin'] = 1\n",
        "df.loc[(df['trial_number'] > 16) & (df['trial_number'] <= 32), 'bin'] = 2\n",
        "df.loc[(df['trial_number'] > 32) & (df['trial_number'] <= 48), 'bin'] = 3\n",
        "df.loc[(df['trial_number'] > 48) & (df['trial_number'] <= 64), 'bin'] = 4\n",
        "df.loc[(df['trial_number'] > 64) & (df['trial_number'] <= 80), 'bin'] = 5"
      ],
      "metadata": {
        "id": "V-dVKRc69v24"
      },
      "execution_count": null,
      "outputs": []
    },
    {
      "cell_type": "markdown",
      "source": [
        "**2. Exclude first trials, trills and repetitions**"
      ],
      "metadata": {
        "id": "q4Wu8pQL13cq"
      }
    },
    {
      "cell_type": "code",
      "source": [
        "#drop X, T, R trials\n",
        "indexNames = df[ df[\"triplet_type\"] == \"X\" ].index\n",
        "df.drop(indexNames, inplace=True)\n",
        "indexNames2 = df[ df[\"triplet_type\"] == \"T\" ].index\n",
        "df.drop(indexNames2, inplace=True)\n",
        "indexNames3 = df[ df[\"triplet_type\"] == \"R\" ].index\n",
        "df.drop(indexNames3, inplace=True)\n",
        "df.head()"
      ],
      "metadata": {
        "id": "EGE5-T6mDAFq"
      },
      "execution_count": null,
      "outputs": []
    },
    {
      "cell_type": "markdown",
      "source": [
        "**3. Exclude incorrect trials**"
      ],
      "metadata": {
        "id": "3Tt6oLH_2Ba5"
      }
    },
    {
      "cell_type": "code",
      "source": [
        "#drop incorrect trials\n",
        "indexNames = df[ df[\"ACC\"] == 0].index\n",
        "df.drop(indexNames, inplace=True)\n",
        "df.head()"
      ],
      "metadata": {
        "id": "wlE7gLRFp6-W"
      },
      "execution_count": null,
      "outputs": []
    },
    {
      "cell_type": "markdown",
      "source": [
        "# Calculating offline-online changes in statistical learning"
      ],
      "metadata": {
        "id": "0joBmyTcoeLB"
      }
    },
    {
      "cell_type": "markdown",
      "source": [
        "**1. Change data to numeric**"
      ],
      "metadata": {
        "id": "RtpPvTndZv7u"
      }
    },
    {
      "cell_type": "code",
      "source": [
        "df['block'] = pd.to_numeric(df['block'])\n",
        "df['bin'] = pd.to_numeric(df['bin'])"
      ],
      "metadata": {
        "id": "vFsZhn6AxEnh"
      },
      "execution_count": null,
      "outputs": []
    },
    {
      "cell_type": "markdown",
      "source": [
        "**2. Calculate H and L scores by bins**"
      ],
      "metadata": {
        "id": "FavIsLfYZ3ek"
      }
    },
    {
      "cell_type": "code",
      "source": [
        "TL_RT_wide = df.copy()\n",
        "TL_RT_wide= TL_RT_wide.pivot_table(index=['Participant Public ID','group'], columns=['block','bin','triplet_type'], values='rt', aggfunc=np.mean)\n",
        "TL_RT_wide = TL_RT_wide.rename(columns={1.0: 'block1', 2.0: 'block2', 3.0:'block3', 4.0:'block4', 5.0: 'block5',6.0: 'block6', 7.0: 'block7', 8.0:'block8', 9.0:'block9', 10.0: 'block10',\n",
        "                                        11.0: 'block11', 12.0: 'block12', 13.0:'block13', 14.0:'block14', 15.0: 'block15', 16.0: 'block16', 17.0: 'block17', 18.0:'block18', 19.0:'block19', 20.0: 'block20',\n",
        "                                        21.0: 'block21', 22.0: 'block22', 23.0:'block23', 24.0:'block24', 25.0: 'block25'}, level=0)\n",
        "TL_RT_wide = TL_RT_wide.rename(columns={1.0: 'bin1', 2.0: 'bin2', 3.0:'bin3', 4.0:'bin4', 5.0: 'bin5'}, level=1)\n",
        "\n",
        "TL_RT_wide.columns = TL_RT_wide.columns.map('_'.join).str.strip('_')\n",
        "TL_RT_wide.head()"
      ],
      "metadata": {
        "id": "sL_2l6wk-wIc"
      },
      "execution_count": null,
      "outputs": []
    },
    {
      "cell_type": "markdown",
      "source": [
        "**3. Calculate offline and online learning scores by bins**\n",
        "\n",
        "*Offline: bin 1 of block minus bin 5 of previous block*\n",
        "\n",
        "*Online: bin 5 of block minus bin 1 of same block*"
      ],
      "metadata": {
        "id": "R-hqsjGMEe_t"
      }
    },
    {
      "cell_type": "code",
      "source": [
        "#calculate learning scores for each bin\n",
        "for x in range(1,26):\n",
        "  for y in [1,5]:\n",
        "    TL_RT_wide[\"block\"+str(x)+\"_bin\"+str(y)+'_TL'] = TL_RT_wide[\"block\"+str(x)+\"_bin\"+str(y)+\"_L\"] - TL_RT_wide[\"block\"+str(x)+\"_bin\"+str(y)+\"_H\"]\n",
        "\n",
        "#calculate offline learning scores\n",
        "for x in range(2,26):\n",
        "    TL_RT_wide[\"block\"+str(x)+'_offline'] = TL_RT_wide[\"block\"+str(x)+\"_bin1_TL\"] - TL_RT_wide[\"block\"+str(x-1)+\"_bin5_TL\"]\n",
        "\n",
        "#calculate online learning scores\n",
        "for x in range(1,26):\n",
        "    TL_RT_wide[\"block\"+str(x)+'_online'] = TL_RT_wide[\"block\"+str(x)+\"_bin5_TL\"] - TL_RT_wide[\"block\"+str(x)+\"_bin1_TL\"]\n",
        "\n",
        "TL_RT_wide.head()"
      ],
      "metadata": {
        "id": "YOSg4SO1EVrl"
      },
      "execution_count": null,
      "outputs": []
    },
    {
      "cell_type": "markdown",
      "source": [
        "**4. Calculate overall offline and online learning scores**\n",
        "\n",
        "*Averaging over the offline/online scores of each block*"
      ],
      "metadata": {
        "id": "ijaKD1nAEwV7"
      }
    },
    {
      "cell_type": "code",
      "source": [
        "#calculate overall offline & online learning scores\n",
        "TL_RT_wide[\"offline_TL\"] = TL_RT_wide[['block2_offline','block3_offline', 'block4_offline','block5_offline', 'block6_offline','block7_offline', 'block8_offline','block9_offline', 'block10_offline',\n",
        "                                       'block11_offline', 'block12_offline','block13_offline', 'block14_offline','block15_offline', 'block16_offline','block17_offline', 'block18_offline','block19_offline', 'block20_offline',\n",
        "                                       'block21_offline', 'block22_offline','block23_offline', 'block24_offline', 'block25_offline']].mean(axis=1)\n",
        "                                       \n",
        "TL_RT_wide[\"online_TL\"] = TL_RT_wide[['block1_online', 'block2_online','block3_online', 'block4_online','block5_online', 'block6_online','block7_online', 'block8_online','block9_online', 'block10_online',\n",
        "                                       'block11_online', 'block12_online','block13_online', 'block14_online','block15_online', 'block16_online','block17_online', 'block18_online','block19_online', 'block20_online',\n",
        "                                       'block21_online', 'block22_online','block23_online', 'block24_online','block25_online']].mean(axis=1)\n",
        "\n",
        "TL_RT_wide.head()"
      ],
      "metadata": {
        "id": "wip9pnOUEZzM"
      },
      "execution_count": null,
      "outputs": []
    },
    {
      "cell_type": "markdown",
      "source": [
        "**5. Save data in CSV**"
      ],
      "metadata": {
        "id": "LHYJAcJtEyIU"
      }
    },
    {
      "cell_type": "code",
      "source": [
        "TL_RT_wide.to_csv(\"TL_RT_online_offline.csv\",index=True)\n",
        "files.download(\"TL_RT_online_offline.csv\")"
      ],
      "metadata": {
        "id": "EpJ0gSKYEa9O"
      },
      "execution_count": null,
      "outputs": []
    },
    {
      "cell_type": "markdown",
      "source": [
        "# Calculating offline-online changes in general skill learning"
      ],
      "metadata": {
        "id": "jmDNHKseooCe"
      }
    },
    {
      "cell_type": "markdown",
      "source": [
        "**1. Calculate general RT scores by bins**"
      ],
      "metadata": {
        "id": "y_SEwTQ8DX4r"
      }
    },
    {
      "cell_type": "code",
      "source": [
        "GS_RT_wide = df.copy()\n",
        "GS_RT_wide= GS_RT_wide.pivot_table(index=['Participant Public ID','group'], columns=['block','bin'], values='rt', aggfunc=np.mean)\n",
        "GS_RT_wide = GS_RT_wide.rename(columns={1.0: 'block1', 2.0: 'block2', 3.0:'block3', 4.0:'block4', 5.0: 'block5',6.0: 'block6', 7.0: 'block7', 8.0:'block8', 9.0:'block9', 10.0: 'block10',\n",
        "                                        11.0: 'block11', 12.0: 'block12', 13.0:'block13', 14.0:'block14', 15.0: 'block15', 16.0: 'block16', 17.0: 'block17', 18.0:'block18', 19.0:'block19', 20.0: 'block20',\n",
        "                                        21.0: 'block21', 22.0: 'block22', 23.0:'block23', 24.0:'block24', 25.0: 'block25'}, level=0)\n",
        "GS_RT_wide = GS_RT_wide.rename(columns={1.0: 'bin1', 2.0: 'bin2', 3.0:'bin3', 4.0:'bin4', 5.0: 'bin5'}, level=1)\n",
        "\n",
        "GS_RT_wide.columns = GS_RT_wide.columns.map('_'.join).str.strip('_')\n",
        "GS_RT_wide.head()"
      ],
      "metadata": {
        "id": "z25wmiXhPIkp"
      },
      "execution_count": null,
      "outputs": []
    },
    {
      "cell_type": "markdown",
      "source": [
        "**2. Calculate offline and online learning scores by bins**\n",
        "\n",
        "\n",
        "*Offline: bin 1 of block minus bin 5 of previous block*\n",
        "\n",
        "*Online: bin 5 of block minus bin 1 of same block*"
      ],
      "metadata": {
        "id": "yv54fjmnDf1W"
      }
    },
    {
      "cell_type": "code",
      "source": [
        "#calculate offline learning scores\n",
        "for x in range(2,26):\n",
        "    GS_RT_wide[\"block\"+str(x)+'_offline'] = GS_RT_wide[\"block\"+str(x)+\"_bin1\"] - GS_RT_wide[\"block\"+str(x-1)+\"_bin5\"]\n",
        "\n",
        "#calculate online learning scores\n",
        "for x in range(1,26):\n",
        "    GS_RT_wide[\"block\"+str(x)+'_online'] = GS_RT_wide[\"block\"+str(x)+\"_bin5\"] - GS_RT_wide[\"block\"+str(x)+\"_bin1\"]\n",
        "\n",
        "GS_RT_wide.head()"
      ],
      "metadata": {
        "id": "FRtHy4hnC3Kx"
      },
      "execution_count": null,
      "outputs": []
    },
    {
      "cell_type": "markdown",
      "source": [
        "**3. Calculate overall offline and online learning scores**\n",
        "\n",
        "*Averaging over the offline/online scores of each block*"
      ],
      "metadata": {
        "id": "4SmA36CND8Aq"
      }
    },
    {
      "cell_type": "code",
      "source": [
        "#calculate overall offline & online learning scores\n",
        "GS_RT_wide[\"offline_GS\"] = GS_RT_wide[['block2_offline','block3_offline', 'block4_offline','block5_offline', 'block6_offline','block7_offline', 'block8_offline','block9_offline', 'block10_offline',\n",
        "                                       'block11_offline', 'block12_offline','block13_offline', 'block14_offline','block15_offline', 'block16_offline','block17_offline', 'block18_offline','block19_offline', 'block20_offline',\n",
        "                                       'block21_offline', 'block22_offline','block23_offline', 'block24_offline', 'block25_offline']].mean(axis=1)\n",
        "                                       \n",
        "GS_RT_wide[\"online_GS\"] = GS_RT_wide[['block1_online', 'block2_online','block3_online', 'block4_online','block5_online', 'block6_online','block7_online', 'block8_online','block9_online', 'block10_online',\n",
        "                                       'block11_online', 'block12_online','block13_online', 'block14_online','block15_online', 'block16_online','block17_online', 'block18_online','block19_online', 'block20_online',\n",
        "                                       'block21_online', 'block22_online','block23_online', 'block24_online','block25_online']].mean(axis=1)\n",
        "\n",
        "GS_RT_wide.head()"
      ],
      "metadata": {
        "id": "HwLPvFvxCJFa"
      },
      "execution_count": null,
      "outputs": []
    },
    {
      "cell_type": "markdown",
      "source": [
        "**4. Save the data to CSV**"
      ],
      "metadata": {
        "id": "hYW9aGswEHFd"
      }
    },
    {
      "cell_type": "code",
      "source": [
        "GS_RT_wide.to_csv(\"GS_RT_online_offline.csv\",index=True)\n",
        "files.download(\"GS_RT_online_offline.csv\")"
      ],
      "metadata": {
        "id": "gIGIavcIDD4Y"
      },
      "execution_count": null,
      "outputs": []
    }
  ]
}