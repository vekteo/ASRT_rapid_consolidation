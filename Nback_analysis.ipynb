{
  "nbformat": 4,
  "nbformat_minor": 0,
  "metadata": {
    "colab": {
      "name": "Nback_analysis.ipynb",
      "provenance": [],
      "collapsed_sections": [],
      "include_colab_link": true
    },
    "kernelspec": {
      "name": "python3",
      "display_name": "Python 3"
    }
  },
  "cells": [
    {
      "cell_type": "markdown",
      "metadata": {
        "id": "view-in-github",
        "colab_type": "text"
      },
      "source": [
        "<a href=\"https://colab.research.google.com/github/vekteo/ASRT_ultra_fast_consolidation/blob/main/Nback_analysis.ipynb\" target=\"_parent\"><img src=\"https://colab.research.google.com/assets/colab-badge.svg\" alt=\"Open In Colab\"/></a>"
      ]
    },
    {
      "cell_type": "markdown",
      "metadata": {
        "id": "updRtcun9y_I"
      },
      "source": [
        "# **N-back analysis script for the ultra-fast consolidation online project**\n",
        "\n",
        "\n",
        "---\n",
        "1. Upload the merged output files (*0back.csv*  or *2back.csv* on OSF)\n",
        "2. Hit *Run all*\n",
        "\n",
        "\n",
        "Code by Teodóra Vékony https://github.com/vekteo\n",
        "\n",
        "Lyon Neuroscience Research Center (CRNL), Université Claude Bernard Lyon 1\n"
      ]
    },
    {
      "cell_type": "markdown",
      "metadata": {
        "id": "HeyWvswL9vo4"
      },
      "source": [
        "# Import Python packages"
      ]
    },
    {
      "cell_type": "code",
      "metadata": {
        "id": "Hsnjbcjh9uli"
      },
      "source": [
        "import glob\n",
        "import seaborn as sns; sns.set()\n",
        "import matplotlib.pyplot as plt\n",
        "import pandas as pd\n",
        "import os\n",
        "import numpy as np\n",
        "from google.colab import files"
      ],
      "execution_count": null,
      "outputs": []
    },
    {
      "cell_type": "markdown",
      "metadata": {
        "id": "53ZCkp4p96Yo"
      },
      "source": [
        "# Read datafiles\n"
      ]
    },
    {
      "cell_type": "code",
      "metadata": {
        "id": "p1qyoNlwF-Ak"
      },
      "source": [
        "# get data file names\n",
        "filenames = glob.glob(\"*.csv\")\n",
        "dfs = []\n",
        "for filename in filenames:\n",
        "    dfs.append(pd.read_csv(filename, encoding='latin-1', decimal='.'))\n",
        "\n",
        "# Concatenate all data into one DataFrame\n",
        "df = pd.concat(dfs, ignore_index=True)"
      ],
      "execution_count": null,
      "outputs": []
    },
    {
      "cell_type": "markdown",
      "source": [
        "# Drop participants"
      ],
      "metadata": {
        "id": "WG-u1o0t4WNN"
      }
    },
    {
      "cell_type": "markdown",
      "source": [
        "***Write the public ID of the participants to drop into the array***"
      ],
      "metadata": {
        "id": "kK3ut6vW4dIi"
      }
    },
    {
      "cell_type": "code",
      "source": [
        "participants_to_drop = ['wxxo75wg','9f29r2qv','7dh53ycb','86pcb2mb','esmmznl1','npsaibu7','qrzq7ts2','sbkvhjhy','trkopxt7','ql49dn7x','c6yyouxw','297gibh5','wunf7i3o','7m76soye','cayu2l31','uqgl5lcz','bxb8djmc','w6vcdqme','p3fyit39','30mhiihl','01hhoswd','j0g4kqyn','bg1yka4d','2j62a51o','9hy16b49','o9aanl9z','t1t2dyid','3pw99p9u','4oltkref','p4f8l137','q965bort','smvr23e8','95f4z9l1','cv841tyx','qmcdul7z','79byw8v4','4xnyxjl0','139lnsjl','zxyx8jio','dvs1rx99','j1mttxb7','ye3yxiiu','02lil6a8','clkmmxkg','rra05osw','32zod29m','l452387h','ne1zmdp0','olyffqcf','bj8l5rz6','ic7gxv2p','k4vkynk3','qc8kj5y4','w5xvw32d','2fjf1gdf','993mmbxg','da8q2m1i','fehyc211','m5zau3bf','54pj2wer','fdvkiue5','fv4eqjr5','3wif8txo','ymmro5ep','sn22rw6s','ia5zwn5m','4yiwcr2r','858nish3','ofenlmw3','ovmb6sgq','wcsfo7p6','dor4944c','hk8jwhaz','bsh7t661','536ektl5','gr7qbqqj','my49x5bc','z63ep3ee','2uaif6hy','ran6tboj']\n",
        "df = df[~df['Participant Public ID'].isin(participants_to_drop)]\n",
        "df.head()"
      ],
      "metadata": {
        "id": "xLcggo-F4abm"
      },
      "execution_count": null,
      "outputs": []
    },
    {
      "cell_type": "markdown",
      "metadata": {
        "id": "HO2xROqJ-BWJ"
      },
      "source": [
        "# Calculating"
      ]
    },
    {
      "cell_type": "code",
      "metadata": {
        "id": "OUplx6gzGyXA"
      },
      "source": [
        "#leave only the important columns\n",
        "df = df.loc[:, ['Participant Public ID', 'STAT_nr_hit','STAT_nr_miss','STAT_nr_false_alarm','STAT_nr_correct_rejection','STAT_nr_response','STAT_nr_no_response','STAT_accuracy','STAT_rt_mean','STAT_rt_median','STAT_hit_rt_mean','STAT_hit_rt_median','STAT_false_alarm_rt_mean','STAT_false_alarm_rt_median','STAT_correct_rejection_rt_mean','STAT_correct_rejection_rt_median','STAT_miss_rt_mean','STAT_miss_rt_median','STAT_dprime']]\n",
        "df.head()"
      ],
      "execution_count": null,
      "outputs": []
    },
    {
      "cell_type": "code",
      "metadata": {
        "id": "KELjXybdHxvS"
      },
      "source": [
        "#drop instruction, feedback trials\n",
        "df = df.dropna(subset=['STAT_dprime'])\n",
        "df.head()"
      ],
      "execution_count": null,
      "outputs": []
    },
    {
      "cell_type": "code",
      "metadata": {
        "id": "S_ZSBJiC28ZA"
      },
      "source": [
        "#save data\n",
        "df.to_csv(\"2back_processed.csv\",index=False)\n",
        "files.download(\"2back_processed.csv\")"
      ],
      "execution_count": null,
      "outputs": []
    }
  ]
}